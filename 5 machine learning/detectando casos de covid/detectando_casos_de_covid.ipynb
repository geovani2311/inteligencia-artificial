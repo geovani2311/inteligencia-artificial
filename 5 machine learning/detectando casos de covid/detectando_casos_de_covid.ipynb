{
 "cells": [
  {
   "cell_type": "markdown",
   "id": "dad08a0c",
   "metadata": {},
   "source": [
    "### Detectando casos de COVID a partir de imagens de Tomografia\n"
   ]
  },
  {
   "cell_type": "markdown",
   "id": "4a5eda56",
   "metadata": {},
   "source": [
    "O objetivo deste conjunto de dados é incentivar a pesquisa e o desenvolvimento de métodos de\n",
    "inteligência artificial capazes de identificar se uma pessoa está infectada pelo SARS-CoV-2 por\n",
    "meio da análise de suas tomografias computadorizadas.\n",
    "\n",
    "O dataset em questão está disponível no kaggle e foi coletado de pacientes reais em hospitais\n",
    "no estado de São Paulo.\n",
    "\n",
    "Nesse projeto, as principais habilidades a serem exercitadas estão relacionadas ao\n",
    "Processamento de Imagens e a utilização de modelos de Deep Learning para classificação\n",
    "\n",
    "fonte de dados: https://www.kaggle.com/datasets/plameneduardo/sarscov2-ctscan-dataset"
   ]
  },
  {
   "cell_type": "code",
   "execution_count": 40,
   "id": "1b5b8fd1",
   "metadata": {},
   "outputs": [],
   "source": [
    "# importando as blibliotecas\n",
    "import os\n",
    "from PIL import Image\n",
    "import cv2\n",
    "import numpy as np\n",
    "from sklearn.model_selection import train_test_split"
   ]
  },
  {
   "cell_type": "code",
   "execution_count": 41,
   "id": "d3225145",
   "metadata": {},
   "outputs": [],
   "source": [
    "# bibliotecas que eu não conhecia até o momento\n",
    "\n",
    "# PIL (Python Imaging Library) é uma biblioteca para abrir, manipular e salvar muitos formatos de imagem diferentes.\n",
    "# cv2 é a biblioteca OpenCV, que é usada para processamento de imagens e visão computacional."
   ]
  },
  {
   "cell_type": "code",
   "execution_count": 42,
   "id": "5ca8321c",
   "metadata": {},
   "outputs": [],
   "source": [
    "# Definindo o caminho para a pasta de imagens\n",
    "covid = r'C:\\Users\\geova\\OneDrive\\Ambiente de Trabalho\\inteligencia artificial\\5 machine learning\\detectando casos de covid\\COVID'\n",
    "no_covid = r'C:\\Users\\geova\\OneDrive\\Ambiente de Trabalho\\inteligencia artificial\\5 machine learning\\detectando casos de covid\\non-COVID'\n"
   ]
  },
  {
   "cell_type": "code",
   "execution_count": 43,
   "id": "e36851e4",
   "metadata": {},
   "outputs": [],
   "source": [
    "# definindo um tamanho padrão pois quando tentei converter lá embaixo as listas de imagens para arrays, algumas imagens tinham tamanhos diferentes e isso dá erro no codigo\n",
    "img_altura, img_largura = 224, 224"
   ]
  },
  {
   "cell_type": "code",
   "execution_count": 44,
   "id": "2a425e3c",
   "metadata": {},
   "outputs": [],
   "source": [
    "# lista para armazenar as imagens e labels das imagens que SÃO de COVID \n",
    "imagens = []\n",
    "labels = []\n",
    "\n",
    "for filename in os.listdir(covid):\n",
    "    if filename.endswith('.png'): # verifica se no final do arquivo tem .png\n",
    "        img_path = os.path.join(covid, filename) # cria o caminho completo do arquivo\n",
    "        try:\n",
    "            img = Image.open(img_path)\n",
    "            img_redimensionada = img.resize((img_altura, img_largura))  # redimensiona a imagem para o tamanho padrão\n",
    "            img_array = np.array(img)  # converte a imagem para um array numpy\n",
    "            imagens.append(img_array)  # adiciona a imagem à lista de imagens   \n",
    "            labels.append(1) # adiciona a label 1 para imagens de COVID\n",
    "        except Exception as e:\n",
    "            print(f\"Erro ao processar a imagem {filename}: {e}\")"
   ]
  },
  {
   "cell_type": "code",
   "execution_count": 45,
   "id": "585c1d0c",
   "metadata": {},
   "outputs": [],
   "source": [
    "# lista para armazenar as imagens e labels das imagens que NÃO SÃO de COVID\n",
    "for filename in os.listdir(no_covid):\n",
    "    if filename.endswith('.png'):  # verifica se no final do arquivo tem .png\n",
    "        img_path = os.path.join(no_covid, filename)  # cria o caminho completo do arquivo\n",
    "        try:\n",
    "            img = Image.open(img_path)\n",
    "            img_redimensionada = img.resize((img_altura, img_largura))  # redimensiona a imagem para o tamanho padrão\n",
    "            img_array = np.array(img)  # converte a imagem para um array numpy\n",
    "            imagens.append(img_array)  # adiciona a imagem à lista de imagens\n",
    "            labels.append(0)  # adiciona a label 0 para imagens não COVID\n",
    "        except Exception as e:\n",
    "            print(f\"Erro ao processar a imagem {filename}: {e}\")"
   ]
  },
  {
   "cell_type": "code",
   "execution_count": 46,
   "id": "6d6f4174",
   "metadata": {},
   "outputs": [
    {
     "ename": "ValueError",
     "evalue": "setting an array element with a sequence. The requested array has an inhomogeneous shape after 1 dimensions. The detected shape was (2481,) + inhomogeneous part.",
     "output_type": "error",
     "traceback": [
      "\u001b[31m---------------------------------------------------------------------------\u001b[39m",
      "\u001b[31mValueError\u001b[39m                                Traceback (most recent call last)",
      "\u001b[36mCell\u001b[39m\u001b[36m \u001b[39m\u001b[32mIn[46]\u001b[39m\u001b[32m, line 1\u001b[39m\n\u001b[32m----> \u001b[39m\u001b[32m1\u001b[39m imagens = \u001b[43mnp\u001b[49m\u001b[43m.\u001b[49m\u001b[43marray\u001b[49m\u001b[43m(\u001b[49m\u001b[43mimagens\u001b[49m\u001b[43m)\u001b[49m  \u001b[38;5;66;03m# converte a lista de imagens para um array numpy\u001b[39;00m\n\u001b[32m      2\u001b[39m labels = np.array(labels)  \u001b[38;5;66;03m# converte a lista de labels para um array numpy\u001b[39;00m\n",
      "\u001b[31mValueError\u001b[39m: setting an array element with a sequence. The requested array has an inhomogeneous shape after 1 dimensions. The detected shape was (2481,) + inhomogeneous part."
     ]
    }
   ],
   "source": [
    "imagens = np.array(imagens)  # converte a lista de imagens para um array numpy\n",
    "labels = np.array(labels)  # converte a lista de labels para um array numpy\n"
   ]
  },
  {
   "cell_type": "code",
   "execution_count": null,
   "id": "91c6df06",
   "metadata": {},
   "outputs": [],
   "source": []
  }
 ],
 "metadata": {
  "kernelspec": {
   "display_name": "Python 3",
   "language": "python",
   "name": "python3"
  },
  "language_info": {
   "codemirror_mode": {
    "name": "ipython",
    "version": 3
   },
   "file_extension": ".py",
   "mimetype": "text/x-python",
   "name": "python",
   "nbconvert_exporter": "python",
   "pygments_lexer": "ipython3",
   "version": "3.11.9"
  }
 },
 "nbformat": 4,
 "nbformat_minor": 5
}
