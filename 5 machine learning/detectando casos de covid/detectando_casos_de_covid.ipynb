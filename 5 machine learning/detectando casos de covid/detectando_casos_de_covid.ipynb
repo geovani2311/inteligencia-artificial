{
 "cells": [
  {
   "cell_type": "markdown",
   "id": "dad08a0c",
   "metadata": {},
   "source": [
    "### Detectando casos de COVID a partir de imagens de Tomografia\n"
   ]
  },
  {
   "cell_type": "markdown",
   "id": "4a5eda56",
   "metadata": {},
   "source": [
    "O objetivo deste conjunto de dados é incentivar a pesquisa e o desenvolvimento de métodos de\n",
    "inteligência artificial capazes de identificar se uma pessoa está infectada pelo SARS-CoV-2 por\n",
    "meio da análise de suas tomografias computadorizadas.\n",
    "\n",
    "O dataset em questão está disponível no kaggle e foi coletado de pacientes reais em hospitais\n",
    "no estado de São Paulo.\n",
    "\n",
    "Nesse projeto, as principais habilidades a serem exercitadas estão relacionadas ao\n",
    "Processamento de Imagens e a utilização de modelos de Deep Learning para classificação\n",
    "\n",
    "fonte de dados: https://www.kaggle.com/datasets/plameneduardo/sarscov2-ctscan-dataset"
   ]
  },
  {
   "cell_type": "code",
   "execution_count": 9,
   "id": "1b5b8fd1",
   "metadata": {},
   "outputs": [],
   "source": [
    "# importando as blibliotecas\n",
    "import os\n",
    "from PIL import Image\n",
    "import cv2\n",
    "import numpy as np\n",
    "from sklearn.model_selection import train_test_split"
   ]
  },
  {
   "cell_type": "code",
   "execution_count": 6,
   "id": "d3225145",
   "metadata": {},
   "outputs": [],
   "source": [
    "# bibliotecas que eu não conhecia até o momento\n",
    "\n",
    "# PIL (Python Imaging Library) é uma biblioteca para abrir, manipular e salvar muitos formatos de imagem diferentes.\n",
    "# cv2 é a biblioteca OpenCV, que é usada para processamento de imagens e visão computacional."
   ]
  },
  {
   "cell_type": "code",
   "execution_count": null,
   "id": "5ca8321c",
   "metadata": {},
   "outputs": [],
   "source": [
    "# Definindo o caminho para a pasta de imagens\n"
   ]
  }
 ],
 "metadata": {
  "kernelspec": {
   "display_name": "Python 3",
   "language": "python",
   "name": "python3"
  },
  "language_info": {
   "codemirror_mode": {
    "name": "ipython",
    "version": 3
   },
   "file_extension": ".py",
   "mimetype": "text/x-python",
   "name": "python",
   "nbconvert_exporter": "python",
   "pygments_lexer": "ipython3",
   "version": "3.11.9"
  }
 },
 "nbformat": 4,
 "nbformat_minor": 5
}
