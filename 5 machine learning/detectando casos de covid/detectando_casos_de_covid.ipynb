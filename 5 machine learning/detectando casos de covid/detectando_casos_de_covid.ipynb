{
 "cells": [
  {
   "cell_type": "markdown",
   "id": "dad08a0c",
   "metadata": {},
   "source": [
    "### Detectando casos de COVID a partir de imagens de Tomografia\n"
   ]
  },
  {
   "cell_type": "markdown",
   "id": "4a5eda56",
   "metadata": {},
   "source": [
    "O objetivo deste conjunto de dados é incentivar a pesquisa e o desenvolvimento de métodos de\n",
    "inteligência artificial capazes de identificar se uma pessoa está infectada pelo SARS-CoV-2 por\n",
    "meio da análise de suas tomografias computadorizadas.\n",
    "\n",
    "O dataset em questão está disponível no kaggle e foi coletado de pacientes reais em hospitais\n",
    "no estado de São Paulo.\n",
    "\n",
    "Nesse projeto, as principais habilidades a serem exercitadas estão relacionadas ao\n",
    "Processamento de Imagens e a utilização de modelos de Deep Learning para classificação\n",
    "\n",
    "fonte de dados: https://www.kaggle.com/datasets/plameneduardo/sarscov2-ctscan-dataset"
   ]
  },
  {
   "cell_type": "code",
   "execution_count": 74,
   "id": "1b5b8fd1",
   "metadata": {},
   "outputs": [],
   "source": [
    "# importando as blibliotecas\n",
    "import os\n",
    "from PIL import Image\n",
    "import cv2\n",
    "import numpy as np\n",
    "from sklearn.model_selection import train_test_split"
   ]
  },
  {
   "cell_type": "code",
   "execution_count": 75,
   "id": "d3225145",
   "metadata": {},
   "outputs": [],
   "source": [
    "# bibliotecas que eu não conhecia até o momento\n",
    "\n",
    "# PIL (Python Imaging Library) é uma biblioteca para abrir, manipular e salvar muitos formatos de imagem diferentes.\n",
    "# cv2 é a biblioteca OpenCV, que é usada para processamento de imagens e visão computacional."
   ]
  },
  {
   "cell_type": "code",
   "execution_count": 76,
   "id": "5ca8321c",
   "metadata": {},
   "outputs": [],
   "source": [
    "# Definindo o caminho para a pasta de imagens\n",
    "covid = r'C:\\Users\\geova\\OneDrive\\Ambiente de Trabalho\\inteligencia artificial\\5 machine learning\\detectando casos de covid\\COVID'\n",
    "no_covid = r'C:\\Users\\geova\\OneDrive\\Ambiente de Trabalho\\inteligencia artificial\\5 machine learning\\detectando casos de covid\\non-COVID'\n"
   ]
  },
  {
   "cell_type": "code",
   "execution_count": 77,
   "id": "e36851e4",
   "metadata": {},
   "outputs": [],
   "source": [
    "# definindo um tamanho padrão pois quando tentei converter lá embaixo as listas de imagens para arrays, algumas imagens tinham tamanhos diferentes e isso dá erro no codigo\n",
    "img_altura, img_largura = 150, 150"
   ]
  },
  {
   "cell_type": "code",
   "execution_count": 78,
   "id": "2f0e945f",
   "metadata": {},
   "outputs": [],
   "source": [
    "# lista para armazenar as imagens e labels das imagens que SÃO de COVID \n",
    "imagens = []\n",
    "labels = []"
   ]
  },
  {
   "cell_type": "code",
   "execution_count": 79,
   "id": "2a425e3c",
   "metadata": {},
   "outputs": [],
   "source": [
    "# lista para armazenar as imagens e labels das imagens que SÃO de COVID\n",
    "for filename in os.listdir(covid):\n",
    "    if filename.endswith('.png'): # verifica se no final do arquivo tem .png\n",
    "        img_path = os.path.join(covid, filename) # cria o caminho completo do arquivo\n",
    "        try:\n",
    "            # abre a imagem e converte para RGB porque algumas imagens tinham mais 3 de canais provavelmente RGBA e quanto tem o quarto canal que é o alpha, o PIL não consegue converter para array\n",
    "            img = Image.open(img_path).convert('RGB')  \n",
    "            img_redimensionada = img.resize((img_largura, img_altura))  # redimensiona a imagem para o tamanho padrão\n",
    "            img_array = np.array(img_redimensionada)  # converte a imagem para um array numpy   \n",
    "            # print(f\"shape da imagem: {filename} (covid): {img_array.shape}\") # aqui eu tinha um dado um print só pra vê quantos canais tinha a imagem\n",
    "            imagens.append(img_array)  # adiciona a imagem à lista de imagens\n",
    "            labels.append(1)  # adiciona o label 1 para indicar que é COVID\n",
    "        except Exception as e:\n",
    "            print(f'Erro ao processar a imagem {filename}: {e}')"
   ]
  },
  {
   "cell_type": "code",
   "execution_count": 80,
   "id": "585c1d0c",
   "metadata": {},
   "outputs": [],
   "source": [
    "# lista para armazenar as imagens e labels das imagens que NÃO SÃO de COVID\n",
    "for filename in os.listdir(no_covid):\n",
    "    if filename.endswith('.png'):  # verifica se no final do arquivo tem .png\n",
    "        img_path = os.path.join(no_covid, filename)  # cria o caminho completo do arquivo\n",
    "        try:\n",
    "            img = Image.open(img_path).convert('RGB')  # abre a imagem e converte para RGB\n",
    "            img_redimensionada = img.resize((img_largura, img_altura))  # redimensiona a imagem para o tamanho padrão  \n",
    "            img_array = np.array(img_redimensionada)  # converte a imagem para um array numpy\n",
    "            # print(f\"shape da imagem: {filename} (no covid): {img_array.shape}\") # aqui também tinha dado um print só pra vê quantos canais tinha a imagem\n",
    "            imagens.append(img_array)  # adiciona a imagem à lista de imagens\n",
    "            labels.append(0)  # adiciona a label 0 para indicar que não é COVID\n",
    "        except Exception as e:\n",
    "            print(f\"Erro ao processar a imagem {filename}: {e}\")\n"
   ]
  },
  {
   "cell_type": "code",
   "execution_count": 81,
   "id": "6d6f4174",
   "metadata": {},
   "outputs": [],
   "source": [
    "imagens = np.array(imagens)  # converte a lista de imagens para um array numpy\n",
    "labels = np.array(labels)  # converte a lista de labels para um array numpy\n"
   ]
  },
  {
   "cell_type": "code",
   "execution_count": null,
   "id": "91c6df06",
   "metadata": {},
   "outputs": [],
   "source": []
  }
 ],
 "metadata": {
  "kernelspec": {
   "display_name": "Python 3",
   "language": "python",
   "name": "python3"
  },
  "language_info": {
   "codemirror_mode": {
    "name": "ipython",
    "version": 3
   },
   "file_extension": ".py",
   "mimetype": "text/x-python",
   "name": "python",
   "nbconvert_exporter": "python",
   "pygments_lexer": "ipython3",
   "version": "3.11.9"
  }
 },
 "nbformat": 4,
 "nbformat_minor": 5
}
