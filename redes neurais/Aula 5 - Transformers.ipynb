{
 "cells": [
  {
   "cell_type": "markdown",
   "metadata": {},
   "source": [
    "## Aula 5 - Processamento de Linguagem Natural\n",
    "### Assunto: Transformers"
   ]
  },
  {
   "cell_type": "code",
   "execution_count": null,
   "metadata": {},
   "outputs": [],
   "source": [
    "#!pip install transformers datasets torch hf_xet tf-keras"
   ]
  },
  {
   "cell_type": "code",
   "execution_count": null,
   "metadata": {},
   "outputs": [
    {
     "name": "stderr",
     "output_type": "stream",
     "text": [
      "Device set to use cpu\n"
     ]
    },
    {
     "name": "stdout",
     "output_type": "stream",
     "text": [
      "__________________________________________\n",
      "O Processamento de Linguagem Natural (NLP) é um campo da inteligência artificial. Se concentra na interação entre computadores and linguagem humana.\n"
     ]
    }
   ],
   "source": [
    "# SUmarização\n",
    "from transformers import pipeline\n",
    "\n",
    "summarizer = pipeline(\"summarization\", \n",
    "                     model=\"facebook/bart-large-cnn\")\n",
    "\n",
    "text = \"\"\"\n",
    "O Processamento de Linguagem Natural (NLP) é um campo da inteligência artificial\n",
    "que se concentra na interação entre computadores e linguagem humana. Nos últimos\n",
    "anos, os modelos Transformer revolucionaram completamente este campo, estabelecendo\n",
    "novos padrões de desempenho em praticamente todas as tarefas de NLP.\n",
    "\"\"\"\n",
    "\n",
    "summary = summarizer(text, max_length=50, min_length=10, do_sample=False)\n",
    "print(\"__________________________________________\")\n",
    "print(summary[0]['summary_text'])"
   ]
  },
  {
   "cell_type": "code",
   "execution_count": 14,
   "metadata": {},
   "outputs": [
    {
     "name": "stderr",
     "output_type": "stream",
     "text": [
      "Device set to use cpu\n"
     ]
    },
    {
     "name": "stdout",
     "output_type": "stream",
     "text": [
      "[{'label': 'Very Positive', 'score': 0.6605523228645325}]\n"
     ]
    }
   ],
   "source": [
    "#Classificação de Sentimentos\n",
    "#ref: https://huggingface.co/docs/transformers/en/pipeline_tutorial\n",
    "from transformers import pipeline\n",
    "\n",
    "# Pipeline de análise de sentimentos\n",
    "classifier = pipeline(\"sentiment-analysis\", \n",
    "                     model=\"tabularisai/multilingual-sentiment-analysis\")\n",
    "\n",
    "result = classifier(\"this NLP course is excelent!\")\n",
    "print(result)  # [{'label': 'POSITIVE', 'score': 0.9977}]"
   ]
  },
  {
   "cell_type": "code",
   "execution_count": 17,
   "metadata": {},
   "outputs": [
    {
     "name": "stderr",
     "output_type": "stream",
     "text": [
      "Device set to use cpu\n"
     ]
    },
    {
     "data": {
      "text/plain": [
       "[{'generated_text': 'I like to eat rice.'}]"
      ]
     },
     "execution_count": 17,
     "metadata": {},
     "output_type": "execute_result"
    }
   ],
   "source": [
    "\"\"\"## Tradutor\n",
    "from transformers import MarianMTModel, MarianTokenizer\n",
    "from transformers import AutoTokenizer\n",
    "\n",
    "tokenizer = AutoTokenizer.from_pretrained(\"bert-base-cased\")\n",
    "# Português para Inglês\n",
    "model_name = \"Helsinki-NLP/opus-mt-pt-en\"\n",
    "tokenizer = MarianTokenizer.from_pretrained(model_name)\n",
    "model = MarianMTModel.from_pretrained(model_name)\n",
    "\n",
    "# Traduzir texto\n",
    "pt_text = \"Transformers são modelos poderosos para NLP.\"\n",
    "translated = model.generate(**tokenizer(pt_text, return_tensors=\"pt\"))\n",
    "print(tokenizer.decode(translated[0], skip_special_tokens=True))\n",
    "\"\"\"\n",
    "from transformers import AutoTokenizer, AutoModelForSeq2SeqLM, pipeline\n",
    "  \n",
    "tokenizer = AutoTokenizer.from_pretrained(\"unicamp-dl/translation-pt-en-t5\")\n",
    "\n",
    "model = AutoModelForSeq2SeqLM.from_pretrained(\"unicamp-dl/translation-pt-en-t5\")\n",
    "\n",
    "pten_pipeline = pipeline('text2text-generation', model=model, tokenizer=tokenizer)\n",
    "\n",
    "pten_pipeline(\"translate Portuguese to English: Eu gosto de comer arroz.\")"
   ]
  },
  {
   "cell_type": "code",
   "execution_count": null,
   "metadata": {},
   "outputs": [],
   "source": []
  }
 ],
 "metadata": {
  "kernelspec": {
   "display_name": "Python 3",
   "language": "python",
   "name": "python3"
  },
  "language_info": {
   "codemirror_mode": {
    "name": "ipython",
    "version": 3
   },
   "file_extension": ".py",
   "mimetype": "text/x-python",
   "name": "python",
   "nbconvert_exporter": "python",
   "pygments_lexer": "ipython3",
   "version": "3.12.1"
  }
 },
 "nbformat": 4,
 "nbformat_minor": 2
}
