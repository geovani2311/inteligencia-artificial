{
 "cells": [
  {
   "cell_type": "markdown",
   "id": "15bf14fd",
   "metadata": {},
   "source": [
    "## Aula 5 - Processametnod e LInguagem Natural\n",
    "### Assunto: Regulariazação"
   ]
  },
  {
   "cell_type": "code",
   "execution_count": null,
   "id": "1c155298",
   "metadata": {},
   "outputs": [],
   "source": [
    "#base: https://github.com/zalandoresearch/fashion-mnist"
   ]
  },
  {
   "cell_type": "code",
   "execution_count": 1,
   "id": "58821bfc",
   "metadata": {},
   "outputs": [],
   "source": [
    "from nltk.tokenize import word_tokenize, sent_tokenize\n",
    "import tensorflow as tf"
   ]
  },
  {
   "cell_type": "code",
   "execution_count": 11,
   "id": "53573c92",
   "metadata": {},
   "outputs": [
    {
     "name": "stderr",
     "output_type": "stream",
     "text": [
      "[nltk_data] Downloading package punkt to\n",
      "[nltk_data]     C:\\Users\\david\\AppData\\Roaming\\nltk_data...\n",
      "[nltk_data]   Unzipping tokenizers\\punkt.zip.\n"
     ]
    },
    {
     "data": {
      "text/plain": [
       "True"
      ]
     },
     "execution_count": 11,
     "metadata": {},
     "output_type": "execute_result"
    }
   ],
   "source": [
    "import nltk\n",
    "nltk.download('punkt')"
   ]
  },
  {
   "cell_type": "code",
   "execution_count": 9,
   "id": "d65d8a6b",
   "metadata": {},
   "outputs": [
    {
     "data": {
      "text/plain": [
       "\"'I am a student from the University of Alabama. I was born in Ontario, Canada and I am a huge fan of the United States. I am going to get a degree in Philosophy to improve my chances of becoming a Philosophy professor. I have been working towards this goal for 4 years. I am currently enrolled in a PhD program. It is very difficult, but I am confident that it will be a good decision'\""
      ]
     },
     "execution_count": 9,
     "metadata": {},
     "output_type": "execute_result"
    }
   ],
   "source": [
    "sample_text = \"'I am a student from the University of Alabama. \"\\\n",
    " \"I was born in Ontario, Canada and I am a huge fan of the United States. \"\\\n",
    "\"I am going to get a degree in Philosophy to improve \"\\\n",
    "\"my chances of becoming a Philosophy professor. I have been \"\\\n",
    "\"working towards this goal for 4 years. I am currently enrolled \"\\\n",
    "\"in a PhD program. It is very difficult, but I am confident that \"\\\n",
    "\"it will be a good decision'\"\n",
    "sample_text"
   ]
  },
  {
   "cell_type": "code",
   "execution_count": 12,
   "id": "12c69113",
   "metadata": {},
   "outputs": [],
   "source": [
    "sample_word_tokens = word_tokenize(sample_text)\n",
    "sample_sent_tokens = sent_tokenize(sample_text)"
   ]
  },
  {
   "cell_type": "code",
   "execution_count": 13,
   "id": "793dfdd3",
   "metadata": {
    "collapsed": true
   },
   "outputs": [
    {
     "data": {
      "text/plain": [
       "[\"'\",\n",
       " 'I',\n",
       " 'am',\n",
       " 'a',\n",
       " 'student',\n",
       " 'from',\n",
       " 'the',\n",
       " 'University',\n",
       " 'of',\n",
       " 'Alabama',\n",
       " '.',\n",
       " 'I',\n",
       " 'was',\n",
       " 'born',\n",
       " 'in',\n",
       " 'Ontario',\n",
       " ',',\n",
       " 'Canada',\n",
       " 'and',\n",
       " 'I',\n",
       " 'am',\n",
       " 'a',\n",
       " 'huge',\n",
       " 'fan',\n",
       " 'of',\n",
       " 'the',\n",
       " 'United',\n",
       " 'States',\n",
       " '.',\n",
       " 'I',\n",
       " 'am',\n",
       " 'going',\n",
       " 'to',\n",
       " 'get',\n",
       " 'a',\n",
       " 'degree',\n",
       " 'in',\n",
       " 'Philosophy',\n",
       " 'to',\n",
       " 'improve',\n",
       " 'my',\n",
       " 'chances',\n",
       " 'of',\n",
       " 'becoming',\n",
       " 'a',\n",
       " 'Philosophy',\n",
       " 'professor',\n",
       " '.',\n",
       " 'I',\n",
       " 'have',\n",
       " 'been',\n",
       " 'working',\n",
       " 'towards',\n",
       " 'this',\n",
       " 'goal',\n",
       " 'for',\n",
       " '4',\n",
       " 'years',\n",
       " '.',\n",
       " 'I',\n",
       " 'am',\n",
       " 'currently',\n",
       " 'enrolled',\n",
       " 'in',\n",
       " 'a',\n",
       " 'PhD',\n",
       " 'program',\n",
       " '.',\n",
       " 'It',\n",
       " 'is',\n",
       " 'very',\n",
       " 'difficult',\n",
       " ',',\n",
       " 'but',\n",
       " 'I',\n",
       " 'am',\n",
       " 'confident',\n",
       " 'that',\n",
       " 'it',\n",
       " 'will',\n",
       " 'be',\n",
       " 'a',\n",
       " 'good',\n",
       " 'decision',\n",
       " \"'\"]"
      ]
     },
     "execution_count": 13,
     "metadata": {},
     "output_type": "execute_result"
    }
   ],
   "source": [
    "sample_word_tokens"
   ]
  },
  {
   "cell_type": "code",
   "execution_count": 14,
   "id": "ec8787a1",
   "metadata": {},
   "outputs": [
    {
     "data": {
      "text/plain": [
       "[\"'I am a student from the University of Alabama.\",\n",
       " 'I was born in Ontario, Canada and I am a huge fan of the United States.',\n",
       " 'I am going to get a degree in Philosophy to improve my chances of becoming a Philosophy professor.',\n",
       " 'I have been working towards this goal for 4 years.',\n",
       " 'I am currently enrolled in a PhD program.',\n",
       " \"It is very difficult, but I am confident that it will be a good decision'\"]"
      ]
     },
     "execution_count": 14,
     "metadata": {},
     "output_type": "execute_result"
    }
   ],
   "source": [
    "sample_sent_tokens"
   ]
  },
  {
   "cell_type": "code",
   "execution_count": null,
   "id": "df82000e",
   "metadata": {},
   "outputs": [],
   "source": []
  }
 ],
 "metadata": {
  "kernelspec": {
   "display_name": "Python 3 (ipykernel)",
   "language": "python",
   "name": "python3"
  },
  "language_info": {
   "codemirror_mode": {
    "name": "ipython",
    "version": 3
   },
   "file_extension": ".py",
   "mimetype": "text/x-python",
   "name": "python",
   "nbconvert_exporter": "python",
   "pygments_lexer": "ipython3",
   "version": "3.9.7"
  }
 },
 "nbformat": 4,
 "nbformat_minor": 5
}
