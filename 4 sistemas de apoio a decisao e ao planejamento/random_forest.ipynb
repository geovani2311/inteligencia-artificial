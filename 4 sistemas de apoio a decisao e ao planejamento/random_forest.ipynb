{
 "cells": [
  {
   "cell_type": "code",
   "execution_count": 1,
   "id": "0ff2163e",
   "metadata": {},
   "outputs": [],
   "source": [
    "import pandas as pd\n",
    "from sklearn.ensemble import RandomForestClassifier\n",
    "from sklearn.model_selection import train_test_split\n",
    "from sklearn.metrics import accuracy_score"
   ]
  },
  {
   "cell_type": "code",
   "execution_count": 2,
   "id": "6eb63015",
   "metadata": {},
   "outputs": [],
   "source": [
    "\n",
    "# 🔹 Dados fictícios\n",
    "data = {\n",
    "    'idade': [25, 45, 35, 33, 26, 22, 48, 52],\n",
    "    'renda': [2500, 7000, 4000, 4500, 2600, 2200, 8000, 9000],\n",
    "    'possui_carro': [0, 1, 0, 1, 0, 0, 1, 1],\n",
    "    'comprou_carro': [1, 0, 1, 0, 1, 1, 0, 0]  # Label (alvo)\n",
    "}\n"
   ]
  },
  {
   "cell_type": "code",
   "execution_count": 3,
   "id": "c8e1125f",
   "metadata": {},
   "outputs": [],
   "source": [
    "\n",
    "df = pd.DataFrame(data)\n"
   ]
  },
  {
   "cell_type": "code",
   "execution_count": 4,
   "id": "36f92e5c",
   "metadata": {},
   "outputs": [
    {
     "name": "stdout",
     "output_type": "stream",
     "text": [
      "Acurácia: 1.0\n"
     ]
    }
   ],
   "source": [
    "\n",
    "# 🔹 Separar variáveis independentes e o alvo\n",
    "X = df[['idade', 'renda', 'possui_carro']]\n",
    "y = df['comprou_carro']\n",
    "\n",
    "# 🔹 Dividir em treino e teste\n",
    "X_train, X_test, y_train, y_test = train_test_split(X, y, test_size=0.25, random_state=42)\n",
    "\n",
    "# 🔹 Criar o modelo\n",
    "modelo = RandomForestClassifier(n_estimators=100, random_state=42)\n",
    "modelo.fit(X_train, y_train)\n",
    "\n",
    "# 🔹 Fazer previsões\n",
    "y_pred = modelo.predict(X_test)\n",
    "\n",
    "# 🔹 Avaliar o modelo\n",
    "print(\"Acurácia:\", accuracy_score(y_test, y_pred))\n"
   ]
  },
  {
   "cell_type": "code",
   "execution_count": null,
   "id": "41e2e695",
   "metadata": {},
   "outputs": [],
   "source": []
  }
 ],
 "metadata": {
  "kernelspec": {
   "display_name": "Python 3",
   "language": "python",
   "name": "python3"
  },
  "language_info": {
   "codemirror_mode": {
    "name": "ipython",
    "version": 3
   },
   "file_extension": ".py",
   "mimetype": "text/x-python",
   "name": "python",
   "nbconvert_exporter": "python",
   "pygments_lexer": "ipython3",
   "version": "3.11.9"
  }
 },
 "nbformat": 4,
 "nbformat_minor": 5
}
